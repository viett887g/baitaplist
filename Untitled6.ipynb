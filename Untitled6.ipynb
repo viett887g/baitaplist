{
  "nbformat": 4,
  "nbformat_minor": 0,
  "metadata": {
    "colab": {
      "name": "Untitled6.ipynb",
      "provenance": [],
      "authorship_tag": "ABX9TyNeJfvFTa2ln5R3/55ApdOy",
      "include_colab_link": true
    },
    "kernelspec": {
      "name": "python3",
      "display_name": "Python 3"
    },
    "language_info": {
      "name": "python"
    }
  },
  "cells": [
    {
      "cell_type": "markdown",
      "metadata": {
        "id": "view-in-github",
        "colab_type": "text"
      },
      "source": [
        "<a href=\"https://colab.research.google.com/github/viett887g/baitaplist/blob/main/Untitled6.ipynb\" target=\"_parent\"><img src=\"https://colab.research.google.com/assets/colab-badge.svg\" alt=\"Open In Colab\"/></a>"
      ]
    },
    {
      "cell_type": "code",
      "metadata": {
        "id": "P2PHOtFPimV8"
      },
      "source": [
        "Tạo một biến x kiểu List rỗng"
      ],
      "execution_count": null,
      "outputs": []
    },
    {
      "cell_type": "code",
      "metadata": {
        "colab": {
          "base_uri": "https://localhost:8080/"
        },
        "id": "7wlgUNL0ipYI",
        "outputId": "4ae88af6-312c-403a-e76b-2ea43e73014d"
      },
      "source": [
        "x=[]\n",
        "print(x)"
      ],
      "execution_count": 1,
      "outputs": [
        {
          "output_type": "stream",
          "name": "stdout",
          "text": [
            "[]\n"
          ]
        }
      ]
    },
    {
      "cell_type": "code",
      "metadata": {
        "id": "jaM-huFgittN"
      },
      "source": [
        "Thêm giá trị 18 vào x"
      ],
      "execution_count": null,
      "outputs": []
    },
    {
      "cell_type": "code",
      "metadata": {
        "colab": {
          "base_uri": "https://localhost:8080/"
        },
        "id": "3S5w23bXiwIC",
        "outputId": "4ea86e28-443b-456d-c368-bc1f539080eb"
      },
      "source": [
        "x.extend([18])\n",
        "print(x)"
      ],
      "execution_count": 2,
      "outputs": [
        {
          "output_type": "stream",
          "name": "stdout",
          "text": [
            "[18]\n"
          ]
        }
      ]
    },
    {
      "cell_type": "code",
      "metadata": {
        "id": "5xSYrR62i4JH"
      },
      "source": [
        "Thêm giá trị \"Huế\" vào x"
      ],
      "execution_count": null,
      "outputs": []
    },
    {
      "cell_type": "code",
      "metadata": {
        "colab": {
          "base_uri": "https://localhost:8080/"
        },
        "id": "MvcIuFJpi6ZE",
        "outputId": "5dfe35db-ece4-44b3-d078-b6d70dd88bb6"
      },
      "source": [
        "x.extend([\"Huế\"])\n",
        "print(x)"
      ],
      "execution_count": 3,
      "outputs": [
        {
          "output_type": "stream",
          "name": "stdout",
          "text": [
            "[18, 'Huế']\n"
          ]
        }
      ]
    },
    {
      "cell_type": "code",
      "metadata": {
        "id": "Vt6Y1DkWjEBo"
      },
      "source": [
        "Tạo 1 List y = [12, 45, -1, -0.56, \"abc\"]"
      ],
      "execution_count": null,
      "outputs": []
    },
    {
      "cell_type": "code",
      "metadata": {
        "colab": {
          "base_uri": "https://localhost:8080/"
        },
        "id": "ILxdkl_vjHxp",
        "outputId": "d15dc76c-5c2e-4fc7-8633-675375508442"
      },
      "source": [
        "y = [12, 45, -1, -0.56, \"abc\"]\n",
        "print(y)"
      ],
      "execution_count": 5,
      "outputs": [
        {
          "output_type": "stream",
          "name": "stdout",
          "text": [
            "[12, 45, -1, -0.56, 'abc']\n"
          ]
        }
      ]
    },
    {
      "cell_type": "code",
      "metadata": {
        "id": "3ec7x096jdm1"
      },
      "source": [
        "Thêm y vào x\n",
        "Xuất giá trị của x ra màn hình\n"
      ],
      "execution_count": null,
      "outputs": []
    },
    {
      "cell_type": "code",
      "metadata": {
        "colab": {
          "base_uri": "https://localhost:8080/"
        },
        "id": "09MXU9USjNkf",
        "outputId": "90c84e05-8dc3-43f1-cafe-f2f068768976"
      },
      "source": [
        "x.extend(y)\n",
        "print(x)"
      ],
      "execution_count": 6,
      "outputs": [
        {
          "output_type": "stream",
          "name": "stdout",
          "text": [
            "[18, 'Huế', 12, 45, -1, -0.56, 'abc']\n"
          ]
        }
      ]
    },
    {
      "cell_type": "code",
      "metadata": {
        "id": "0g51lAT3jk8e"
      },
      "source": [
        " In ra màn hình giá trị của phần tử cuối cùng và phần tử đầu tiên của x"
      ],
      "execution_count": null,
      "outputs": []
    },
    {
      "cell_type": "code",
      "metadata": {
        "colab": {
          "base_uri": "https://localhost:8080/"
        },
        "id": "q5QrrGkOjnfN",
        "outputId": "71ce15de-dc2d-44a9-a979-5a0e5a071589"
      },
      "source": [
        "print(x[0])"
      ],
      "execution_count": 7,
      "outputs": [
        {
          "output_type": "stream",
          "name": "stdout",
          "text": [
            "18\n"
          ]
        }
      ]
    },
    {
      "cell_type": "code",
      "metadata": {
        "id": "tw8DivwMjuGd"
      },
      "source": [
        "In ra màn hình giá trị của phần tử đầu tiên đến phần tử thứ 5 của x"
      ],
      "execution_count": null,
      "outputs": []
    },
    {
      "cell_type": "code",
      "metadata": {
        "colab": {
          "base_uri": "https://localhost:8080/"
        },
        "id": "SSmUumVujxAa",
        "outputId": "291a00f4-8f30-4e52-c72a-464abc0a5788"
      },
      "source": [
        "print(x[5])"
      ],
      "execution_count": 8,
      "outputs": [
        {
          "output_type": "stream",
          "name": "stdout",
          "text": [
            "-0.56\n"
          ]
        }
      ]
    },
    {
      "cell_type": "code",
      "metadata": {
        "id": "E3kM8lNAj1KZ"
      },
      "source": [
        "In ra màn hình giá trị của phần từ thứ 3 đến cuối cùng của x"
      ],
      "execution_count": null,
      "outputs": []
    },
    {
      "cell_type": "code",
      "metadata": {
        "colab": {
          "base_uri": "https://localhost:8080/"
        },
        "id": "L9ZHP0Izj3mY",
        "outputId": "68768fd2-9628-4772-80ec-c970908dc53f"
      },
      "source": [
        "print(x[3:])"
      ],
      "execution_count": 9,
      "outputs": [
        {
          "output_type": "stream",
          "name": "stdout",
          "text": [
            "[45, -1, -0.56, 'abc']\n"
          ]
        }
      ]
    }
  ]
}